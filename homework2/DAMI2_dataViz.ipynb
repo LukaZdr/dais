{
 "cells": [
  {
   "cell_type": "code",
   "execution_count": 1,
   "metadata": {},
   "outputs": [],
   "source": [
    "'''\n",
    "This is a starting template to get you into data visualizations and interpretation. Customize\n",
    "this file and comment out part which you do not need.\n",
    "We will be using the functionality of the matplotlib library and other libraries, so we import them.'''\n",
    "\n",
    "import matplotlib.pyplot as plt\n",
    "import numpy as np\n",
    "from numpy import *\n",
    "from pathlib import Path\n",
    " \n"
   ]
  },
  {
   "cell_type": "code",
   "execution_count": 118,
   "metadata": {},
   "outputs": [
    {
     "name": "stderr",
     "output_type": "stream",
     "text": [
      "No handles with labels found to put in legend.\n"
     ]
    },
    {
     "data": {
      "text/plain": [
       "([<matplotlib.axis.YTick at 0x11bb6cdd0>,\n",
       "  <matplotlib.axis.YTick at 0x11c120b50>,\n",
       "  <matplotlib.axis.YTick at 0x11c6fde10>,\n",
       "  <matplotlib.axis.YTick at 0x11a548a50>,\n",
       "  <matplotlib.axis.YTick at 0x11a3c6c10>],\n",
       " <a list of 5 Text yticklabel objects>)"
      ]
     },
     "execution_count": 118,
     "metadata": {},
     "output_type": "execute_result"
    },
    {
     "data": {
      "image/png": "[encoded data removed]",
      "text/plain": [
       "<Figure size 432x288 with 1 Axes>"
      ]
     },
     "metadata": {
      "needs_background": "light"
     },
     "output_type": "display_data"
    }
   ],
   "source": [
    "# Get some data from your data folder\n",
    "\n",
    "data = loadtxt('/Users/nheinsohn/dais/homework2/DAMI2-PlotData/Grades_lecture1.dat')\n",
    "\n",
    "'''You can choose from a set of basic plots. Check out the correct function arguments to correctly display the data,\n",
    "e.g. plt.boxplot(x_data, y_data)'''\n",
    " \n",
    "#plt.pie(data)\n",
    "\n",
    "plt.hist(data, align='mid')\n",
    "\n",
    "#plt.bar(data, height=5)\n",
    "\n",
    "#plt.boxplot()\n",
    "\n",
    "# Never forget to label the axes, if there axes to label, and to give some additional information if you think it is useful\n",
    " \n",
    "plt.xlabel('grades')\n",
    "plt.ylabel('occurence')\n",
    "plt.title('Grades of lecture 1')\n",
    "plt.legend() \n",
    " \n",
    "# You can also change the scale (ticks) \n",
    "plt.xticks([1.2,2,3.2,4,4.8],[1,2,3,4,5])\n",
    "plt.yticks([10,20,30,40,50], [5,10,15,20,25])\n",
    "\n"
   ]
  },
  {
   "cell_type": "code",
   "execution_count": 119,
   "metadata": {},
   "outputs": [
    {
     "name": "stderr",
     "output_type": "stream",
     "text": [
      "No handles with labels found to put in legend.\n"
     ]
    },
    {
     "data": {
      "text/plain": [
       "([<matplotlib.axis.YTick at 0x11a5289d0>,\n",
       "  <matplotlib.axis.YTick at 0x11c5e2050>,\n",
       "  <matplotlib.axis.YTick at 0x11a432c50>,\n",
       "  <matplotlib.axis.YTick at 0x11c4097d0>,\n",
       "  <matplotlib.axis.YTick at 0x11c4092d0>],\n",
       " <a list of 5 Text yticklabel objects>)"
      ]
     },
     "execution_count": 119,
     "metadata": {},
     "output_type": "execute_result"
    },
    {
     "data": {
      "image/png": "[encoded data removed]",
      "text/plain": [
       "<Figure size 432x288 with 1 Axes>"
      ]
     },
     "metadata": {
      "needs_background": "light"
     },
     "output_type": "display_data"
    }
   ],
   "source": [
    "# Get some data from your data folder\n",
    "\n",
    "data = loadtxt('/Users/nheinsohn/dais/homework2/DAMI2-PlotData/Grades_lecture2.dat')\n",
    "\n",
    "'''You can choose from a set of basic plots. Check out the correct function arguments to correctly display the data,\n",
    "e.g. plt.boxplot(x_data, y_data)'''\n",
    " \n",
    "#plt.pie(data)\n",
    "\n",
    "plt.hist(data, align='mid')\n",
    "\n",
    "#plt.bar(data, height=5)\n",
    "\n",
    "#plt.boxplot()\n",
    "\n",
    "# Never forget to label the axes, if there axes to label, and to give some additional information if you think it is useful\n",
    " \n",
    "plt.xlabel('grades')\n",
    "plt.ylabel('occurence')\n",
    "plt.title('Grades of lecture 2')\n",
    "plt.legend() \n",
    " \n",
    "# You can also change the scale (ticks) \n",
    "plt.xticks([1.2,2,3.2,4,4.8],[1,2,3,4,5])\n",
    "plt.yticks([10,20,30,40,50], [5,10,15,20,25])\n",
    "\n"
   ]
  },
  {
   "cell_type": "code",
   "execution_count": 116,
   "metadata": {},
   "outputs": [
    {
     "data": {
      "text/plain": [
       "([], <a list of 0 Text yticklabel objects>)"
      ]
     },
     "execution_count": 116,
     "metadata": {},
     "output_type": "execute_result"
    },
    {
     "data": {
      "image/png": "[encoded data removed]",
      "text/plain": [
       "<Figure size 432x288 with 1 Axes>"
      ]
     },
     "metadata": {},
     "output_type": "display_data"
    }
   ],
   "source": [
    "# Get some data from your data folder\n",
    "\n",
    "data = loadtxt('/Users/nheinsohn/dais/homework2/DAMI2-PlotData/Music.dat')\n",
    "\n",
    "'''You can choose from a set of basic plots. Check out the correct function arguments to correctly display the data,\n",
    "e.g. plt.boxplot(x_data, y_data)'''\n",
    " \n",
    "plt.pie(data, labels=['Rock','Schlager','Pop','Dance','House'],autopct='%1.1f%%')\n",
    "\n",
    "#plt.hist(data, align='mid')\n",
    "\n",
    "#plt.bar(data, height=5)\n",
    "\n",
    "#plt.boxplot()\n",
    "\n",
    "# Never forget to label the axes, if there axes to label, and to give some additional information if you think it is useful\n",
    " \n",
    "plt.xlabel('')\n",
    "plt.ylabel('')\n",
    "plt.title('Music favors')\n",
    " \n",
    "# You can also change the scale (ticks) \n",
    "plt.xticks([],[])\n",
    "plt.yticks([],[])"
   ]
  },
  {
   "cell_type": "code",
   "execution_count": 47,
   "metadata": {},
   "outputs": [
    {
     "data": {
      "text/plain": [
       "([<matplotlib.axis.YTick at 0x120e37950>],\n",
       " <a list of 1 Text yticklabel objects>)"
      ]
     },
     "execution_count": 47,
     "metadata": {},
     "output_type": "execute_result"
    },
    {
     "data": {
      "image/png": "[encoded data removed]",
      "text/plain": [
       "<Figure size 432x288 with 1 Axes>"
      ]
     },
     "metadata": {
      "needs_background": "light"
     },
     "output_type": "display_data"
    }
   ],
   "source": [
    "#Get some data from your data folder\n",
    "data = np.genfromtxt('/Users/nheinsohn/dais/homework2/DAMI2-PlotData/AirlineSafety.csv')\n",
    "\n",
    "'''You can choose from a set of basic plots. Check out the correct function arguments to correctly display the data, e.g. plt.boxplot(x_data, y_data)'''\n",
    "\n",
    "#plt.pie(data)\n",
    "\n",
    "#plt.hist(data, range=(0,1))\n",
    "\n",
    "#plt.bar(data, height=500)\n",
    "\n",
    "#plt.boxplot(data)\n",
    "\n",
    "#Never forget to label the axes, if there axes to label, and to give some additional information if you think it is useful\n",
    "plt.xlabel('grades') \n",
    "plt.ylabel('occurence')\n",
    "plt.title('Airline')\n",
    "\n",
    "#You can also change the scale (ticks)\n",
    "plt.xticks([1],[1]) \n",
    "plt.yticks([1], [1])"
   ]
  },
  {
   "cell_type": "code",
   "execution_count": null,
   "metadata": {},
   "outputs": [],
   "source": []
  }
 ],
 "metadata": {
  "kernelspec": {
   "display_name": "Python 3",
   "language": "python",
   "name": "python3"
  },
  "language_info": {
   "codemirror_mode": {
    "name": "ipython",
    "version": 3
   },
   "file_extension": ".py",
   "mimetype": "text/x-python",
   "name": "python",
   "nbconvert_exporter": "python",
   "pygments_lexer": "ipython3",
   "version": "3.7.6"
  }
 },
 "nbformat": 4,
 "nbformat_minor": 2
}
