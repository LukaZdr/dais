{
 "cells": [
  {
   "cell_type": "code",
   "execution_count": null,
   "metadata": {},
   "outputs": [],
   "source": [
    "'''\n",
    "This is a starting template to get you into data visualizations and interpretation. Customize\n",
    "this file and comment out part which you do not need.\n",
    "We will be using the functionality of the matplotlib library and other libraries, so we import them.'''\n",
    "\n",
    "import matplotlib.pyplot as plt\n",
    "import numpy as np\n",
    "from numpy import *\n",
    " \n"
   ]
  },
  {
   "cell_type": "code",
   "execution_count": 9,
   "metadata": {},
   "outputs": [
    {
     "ename": "NameError",
     "evalue": "name 'loadtxt' is not defined",
     "output_type": "error",
     "traceback": [
      "\u001b[0;31m---------------------------------------------------------------------------\u001b[0m",
      "\u001b[0;31mNameError\u001b[0m                                 Traceback (most recent call last)",
      "\u001b[0;32m<ipython-input-9-92706d9a5758>\u001b[0m in \u001b[0;36m<module>\u001b[0;34m\u001b[0m\n\u001b[1;32m      1\u001b[0m \u001b[0;31m# Get some data from your data folder\u001b[0m\u001b[0;34m\u001b[0m\u001b[0;34m\u001b[0m\u001b[0;34m\u001b[0m\u001b[0m\n\u001b[1;32m      2\u001b[0m \u001b[0;34m\u001b[0m\u001b[0m\n\u001b[0;32m----> 3\u001b[0;31m \u001b[0mdata\u001b[0m \u001b[0;34m=\u001b[0m \u001b[0mloadtxt\u001b[0m\u001b[0;34m(\u001b[0m\u001b[0;34m'AirlineSafety.csv'\u001b[0m\u001b[0;34m)\u001b[0m\u001b[0;34m\u001b[0m\u001b[0;34m\u001b[0m\u001b[0m\n\u001b[0m\u001b[1;32m      4\u001b[0m \u001b[0;34m\u001b[0m\u001b[0m\n\u001b[1;32m      5\u001b[0m '''You can choose from a set of basic plots. Check out the correct function arguments to correctly display the data,\n",
      "\u001b[0;31mNameError\u001b[0m: name 'loadtxt' is not defined"
     ]
    }
   ],
   "source": [
    "# Get some data from your data folder\n",
    "\n",
    "data = loadtxt('AirlineSafety.csv')\n",
    "\n",
    "'''You can choose from a set of basic plots. Check out the correct function arguments to correctly display the data,\n",
    "e.g. plt.boxplot(x_data, y_data)'''\n",
    " \n",
    "plt.pie(10, data=data)\n",
    "\n",
    "#plt.hist()\n",
    "\n",
    "#plt.bar()\n",
    "\n",
    "#plt.boxplot()\n",
    "\n",
    "# Never forget to label the axes, if there axes to label, and to give some additional information if you think it is useful\n",
    " \n",
    "plt.xlabel('Your x-label')\n",
    "plt.ylabel('Your y-label')\n",
    "plt.title('Your title')\n",
    "plt.legend() \n",
    " \n",
    "# You can also change the scale (ticks) \n",
    "plt.xticks([], [])\n",
    "plt.yticks([], [])\n",
    "\n"
   ]
  },
  {
   "cell_type": "code",
   "execution_count": null,
   "metadata": {},
   "outputs": [],
   "source": []
  }
 ],
 "metadata": {
  "kernelspec": {
   "display_name": "Python 3",
   "language": "python",
   "name": "python3"
  },
  "language_info": {
   "codemirror_mode": {
    "name": "ipython",
    "version": 3
   },
   "file_extension": ".py",
   "mimetype": "text/x-python",
   "name": "python",
   "nbconvert_exporter": "python",
   "pygments_lexer": "ipython3",
   "version": "3.7.6"
  }
 },
 "nbformat": 4,
 "nbformat_minor": 2
}
