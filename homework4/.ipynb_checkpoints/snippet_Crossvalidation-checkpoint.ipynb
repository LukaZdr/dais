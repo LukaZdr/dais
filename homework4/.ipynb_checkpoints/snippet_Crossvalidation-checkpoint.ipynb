{
 "cells": [
  {
   "cell_type": "code",
   "execution_count": null,
   "metadata": {},
   "outputs": [
    {
     "name": "stderr",
     "output_type": "stream",
     "text": [
      "/Users/nheinsohn/opt/anaconda3/lib/python3.7/site-packages/sklearn/neural_network/_multilayer_perceptron.py:571: ConvergenceWarning: Stochastic Optimizer: Maximum iterations (100) reached and the optimization hasn't converged yet.\n",
      "  % self.max_iter, ConvergenceWarning)\n"
     ]
    }
   ],
   "source": [
    "'''Before, we used the 'train_test_split' function to perform one experimental run\n",
    "However, to use just one split often biased (you could ask: what qualifies a data point to be in the training or test set?)\n",
    "so running multiple instances using your model but with different sets each run is the key idea in crossvalidation\n",
    "In the newest version of scikit, it is sufficient to just call 'cross_val_score' with the desired number of folds. \n",
    "It returns already the accuracy when trained on each fold'''\n",
    "\n",
    "# So just import it instead of 'train_test_split'\n",
    "from sklearn.model_selection import cross_val_score\n",
    "from sklearn.datasets import fetch_openml\n",
    "from sklearn.neural_network import MLPClassifier\n",
    "\n",
    "# Get some data, use X for the datapoints and y for the label (or rename but then change accordingly)\n",
    "X, y = fetch_openml('mnist_784', version=1, return_X_y=True)\n",
    "# Define a classifier\n",
    "\n",
    "mlp = MLPClassifier(hidden_layer_sizes=(100, 100), solver='sgd', learning_rate='constant', learning_rate_init=0.1, max_iter=100)\n",
    "\n",
    "# Here, the k-fold crossvalidation starts with k=10; you do not pass separated train and test sets anymore \n",
    "scores = cross_val_score(mlp, X, y, cv=10, scoring='accuracy')\n",
    "# Prints all scores of all folds\n",
    "print(scores)\n",
    "\n",
    "# Prints the average, this is actually what you want and report in a paper\n",
    "print(scores.mean())"
   ]
  },
  {
   "cell_type": "code",
   "execution_count": null,
   "metadata": {},
   "outputs": [],
   "source": [
    "'''Okay, now you hopefully got a refresh on k-fold crossvalidation and how to use it practically. This technique does not\n",
    "only cope with small datasets but is especially used to find out the best hyperparameter for a model, e.g. the learning\n",
    "rate, say 'eta', in a neural network. Here is how you can do it, but be aware that you can't just run it as it is: '''\n",
    "\n",
    "# if you use integers\n",
    "param_range = list(range(?, ?)) # remember the range function from the first tutorial?\n",
    "\n",
    "# if you use floats, e.g. for the learning rate \n",
    "#eta=[(i+1)/10.0 for i in range(10)] \n",
    "#print eta\n",
    "\n",
    "fold_scores = []\n",
    "for k in param_range:\n",
    "mlp_example=MLPClassifier(learning_rate_init=k) \n",
    "    scores = cross_val_score(mlp_example, X, y, cv=10, scoring='accuracy')\n",
    "    fold_scores.append(scores.mean())\n",
    "print(fold_scores)"
   ]
  },
  {
   "cell_type": "code",
   "execution_count": null,
   "metadata": {},
   "outputs": [],
   "source": [
    "# It is nicer to plot it the parameter range (here for example for eta, the learning rate, but change to your needs); \n",
    "# refreshes also your skills from the 2nd tutorial :)\n",
    "\n",
    "import matplotlib.pyplot as plt\n",
    "%matplotlib inline\n",
    "\n",
    "plt.plot(param_range, fold_scores)\n",
    "plt.xlabel('parameter value')\n",
    "plt.ylabel('fold accuracy')"
   ]
  },
  {
   "cell_type": "code",
   "execution_count": null,
   "metadata": {},
   "outputs": [],
   "source": []
  }
 ],
 "metadata": {
  "kernelspec": {
   "display_name": "Python 3",
   "language": "python",
   "name": "python3"
  },
  "language_info": {
   "codemirror_mode": {
    "name": "ipython",
    "version": 3
   },
   "file_extension": ".py",
   "mimetype": "text/x-python",
   "name": "python",
   "nbconvert_exporter": "python",
   "pygments_lexer": "ipython3",
   "version": "3.7.6"
  }
 },
 "nbformat": 4,
 "nbformat_minor": 2
}
